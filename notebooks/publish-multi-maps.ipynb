{
 "cells": [
  {
   "cell_type": "markdown",
   "id": "b75509e9-5551-479e-8964-bb76cca0f7f5",
   "metadata": {},
   "source": [
    "#  Sample mapfile generation for esgpublish operation\n",
    "\n",
    "## Set constants\n",
    "- Filenames should be full relative paths consistent to this Notebook file"
   ]
  },
  {
   "cell_type": "code",
   "execution_count": 1,
   "id": "78a9540a-de34-4df6-9956-4303052b6d87",
   "metadata": {},
   "outputs": [],
   "source": [
    "METAFILE =   \"exeter-221.txt\"   #  filename of the metadata\n",
    "FIRST_ID=  \"input4MIPs\"   # \"Project\" identifier obs\n",
    "import os, requests\n",
    "os.chdir(\"/home/jovyan/mapfiles\")"
   ]
  },
  {
   "cell_type": "markdown",
   "id": "fc8f6dd8-93a8-4073-8005-309f8f3c471a",
   "metadata": {},
   "source": [
    "## Run this bash code in a terminal\n",
    "- easiest to run in same directory as the Notebook\n",
    "- wget is required\n",
    "- scans a directory tree for .nc files\n",
    "- generates the \"metafile\" "
   ]
  },
  {
   "cell_type": "code",
   "execution_count": 3,
   "id": "5eb001a8-90b3-4fba-9021-d3b6d8f1f1d8",
   "metadata": {},
   "outputs": [],
   "source": [
    "%%sh\n",
    "\n",
    "PARALLEL=/home/jovyan/conda-envs/pubpip/bin/parallel\n",
    "\n",
    "# wget https://raw.githubusercontent.com/sashakames/aims-pub-util/master/get_meta.sh\n",
    "\n",
    "dn=\"/p/user_pub/work/input4MIPs/CMIP7/CMIP/uoexeter/UOEXETER-CMIP-2-2-1\"\n",
    "# project should match identifier above \n",
    "#for fn in `find $dn -name '*.nc'`; do \n",
    "#  bash get_meta.sh $fn ; done > ~/mapfiles/DRCDP-3.txt  #  file name should match const above\n",
    "#done\n",
    "find $dn -type f |  $PARALLEL bash get_meta.sh {} > exeter-221.txt"
   ]
  },
  {
   "cell_type": "markdown",
   "id": "ec5f221a-6736-4cdd-a3d5-c748a90a6962",
   "metadata": {},
   "source": [
    "## Open the input file"
   ]
  },
  {
   "cell_type": "code",
   "execution_count": 4,
   "id": "03c97900-eb6d-4d06-b74d-a495298f1830",
   "metadata": {
    "tags": []
   },
   "outputs": [],
   "source": [
    "arr = []\n",
    "with open(METAFILE) as f:\n",
    "    for line in f:\n",
    "        \n",
    "        arr.append(line.rstrip())\n"
   ]
  },
  {
   "cell_type": "markdown",
   "id": "e5408b27-631f-40e4-847a-43059029e8ef",
   "metadata": {},
   "source": [
    "## Iterate through input data and write out mapfile"
   ]
  },
  {
   "cell_type": "code",
   "execution_count": 5,
   "id": "edb89dc7-c645-45f3-ab3f-18af0413ed3e",
   "metadata": {
    "tags": []
   },
   "outputs": [
    {
     "name": "stdout",
     "output_type": "stream",
     "text": [
      "Writing input4MIPs.CMIP7.CMIP.uoexeter.UOEXETER-CMIP-2-2-1.atmos.monC.vd.gnz.v20250521.map\n",
      "Writing input4MIPs.CMIP7.CMIP.uoexeter.UOEXETER-CMIP-2-2-1.atmos.monC.reff.gnz.v20250521.map\n",
      "Writing input4MIPs.CMIP7.CMIP.uoexeter.UOEXETER-CMIP-2-2-1.atmos.monC.nd.gnz.v20250521.map\n",
      "Writing input4MIPs.CMIP7.CMIP.uoexeter.UOEXETER-CMIP-2-2-1.atmos.monC.sad.gnz.v20250521.map\n",
      "Writing input4MIPs.CMIP7.CMIP.uoexeter.UOEXETER-CMIP-2-2-1.atmos.day.utsvolcemis.gn.v20250521.map\n",
      "Writing input4MIPs.CMIP7.CMIP.uoexeter.UOEXETER-CMIP-2-2-1.atmos.monC.ext.gnz.v20250521.map\n",
      "Writing input4MIPs.CMIP7.CMIP.uoexeter.UOEXETER-CMIP-2-2-1.atmos.monC.asy.gnz.v20250521.map\n",
      "Writing input4MIPs.CMIP7.CMIP.uoexeter.UOEXETER-CMIP-2-2-1.atmos.monC.ssa.gnz.v20250521.map\n",
      "Writing input4MIPs.CMIP7.CMIP.uoexeter.UOEXETER-CMIP-2-2-1.atmos.mon.nd.gnz.v20250521.map\n",
      "Writing input4MIPs.CMIP7.CMIP.uoexeter.UOEXETER-CMIP-2-2-1.atmos.mon.sad.gnz.v20250521.map\n",
      "Writing input4MIPs.CMIP7.CMIP.uoexeter.UOEXETER-CMIP-2-2-1.atmos.mon.reff.gnz.v20250521.map\n",
      "Writing input4MIPs.CMIP7.CMIP.uoexeter.UOEXETER-CMIP-2-2-1.atmos.mon.vd.gnz.v20250521.map\n",
      "Writing input4MIPs.CMIP7.CMIP.uoexeter.UOEXETER-CMIP-2-2-1.atmos.mon.ext.gnz.v20250521.map\n",
      "Writing input4MIPs.CMIP7.CMIP.uoexeter.UOEXETER-CMIP-2-2-1.atmos.mon.ssa.gnz.v20250521.map\n",
      "Writing input4MIPs.CMIP7.CMIP.uoexeter.UOEXETER-CMIP-2-2-1.atmos.mon.asy.gnz.v20250521.map\n"
     ]
    }
   ],
   "source": [
    "out_dict = {}\n",
    "\n",
    "for line in arr:\n",
    "\n",
    "    parts = line.split()\n",
    "    path = parts[1]\n",
    "\n",
    "    checksum = parts[0]\n",
    "\n",
    "    ts = parts[2]  # timestamp\n",
    "\n",
    "    sz = parts[3].strip()  # size\n",
    "\n",
    "    pp2 = path.split('/')\n",
    "    idx = pp2.index(FIRST_ID)\n",
    "    last = len(pp2) - 2\n",
    "    dset_id = \".\".join(pp2[idx  :last]) + \"#\" + pp2[last][1:]\n",
    "\n",
    "    out_arr = []\n",
    "    out_arr.append(dset_id)\n",
    "    out_arr.append(path)\n",
    "    out_arr.append(sz)\n",
    "    out_arr.append(\"mod_time=\" + ts)\n",
    "    out_arr.append(\"checksum=\" + checksum)\n",
    "    out_arr.append(\"checksum_type=SHA256\")\n",
    "    out_line = ' | '.join(out_arr) + \"\\n\"\n",
    "    \n",
    "    if not dset_id in out_dict:\n",
    "        out_dict[dset_id] = [out_line]\n",
    "    else:\n",
    "        out_dict[dset_id].append(out_line)\n",
    "\n",
    "for dset_id in out_dict:\n",
    "    outfilename = dset_id.replace(\"#\",\".v\") + \".map\"\n",
    "    print(\"Writing \" + outfilename)\n",
    "    with open(outfilename , \"w\") as f:\n",
    "        for line in out_dict[dset_id]:\n",
    "            f.write(line)"
   ]
  },
  {
   "cell_type": "markdown",
   "id": "27144d02-a5fb-4551-a699-c2e5d81d6260",
   "metadata": {},
   "source": [
    "## esgpublish operation\n",
    "\n",
    "- See https://esg-publisher.readthedocs.org/\n",
    "- Ensure you have followed steps to install and configure the publisher to create a esg.yaml file\n",
    "- Assuming you have saved your config file to the current directory as esg.yaml and you have the mapfile `test-file.map`, you should run in a terminal:"
   ]
  },
  {
   "cell_type": "markdown",
   "id": "c094f39b-5a18-4cc1-9d2a-12c15e7d66ee",
   "metadata": {},
   "source": [
    "esgpublish --map test-file.map --config esg.yaml --json <json-file> # might use .json"
   ]
  },
  {
   "cell_type": "markdown",
   "id": "79ecdfa1-e00f-4b3a-96a3-2b70fd7c3509",
   "metadata": {
    "tags": []
   },
   "source": [
    "## Running test publishing using the esgcet module directly\n",
    "\n",
    "The cells below handle a \"generic\" publishing workflow for testing purposes.  These are not intended for long production publication runs.\n",
    "\n",
    "### 1.)  Import statements"
   ]
  },
  {
   "cell_type": "code",
   "execution_count": null,
   "id": "f3036ee1-2d14-463d-ae92-c23abc01236f",
   "metadata": {
    "tags": []
   },
   "outputs": [],
   "source": [
    "from esgcet.input4mips import input4mips"
   ]
  },
  {
   "cell_type": "markdown",
   "id": "f1b95205-3855-4f95-b139-5f11d0adc47e",
   "metadata": {},
   "source": [
    "### 2.)  Configure the publisher"
   ]
  },
  {
   "cell_type": "code",
   "execution_count": null,
   "id": "125ae591-1c89-47b7-8ae7-a5b417f9a298",
   "metadata": {
    "tags": []
   },
   "outputs": [],
   "source": [
    "argdict = {}\n",
    "argdict[\"silent\"] = False\n",
    "argdict[\"verbose\"] = False\n",
    "argdict[\"cert\"] = \"\"   # must be set for restricted ESGF1 publishing relying on certs\n",
    "argdict[\"index_node\"] = \"esgf-fedtest.llnl.gov\"\n",
    "argdict[\"data_node\"] = \"fake-test-datanode.llnl.gov\"\n",
    "argdict[\"data_roots\"] = { \"/p/user_pub/work\" : \"user_pub_work\" }\n",
    "argdict[\"globus\"] = \"FAKE\"\n",
    "argdict[\"dtn\"] = 'none'\n",
    "argdict[\"replica\"] = False\n",
    "argdict[\"proj\"] = FIRST_ID\n",
    "argdict[\"json_file\"] = None\n",
    "argdict[\"auth\"] = False\n",
    "argdict[\"user_project_config\"] = {}\n",
    "argdict[\"test\"] = True\n",
    "argdict[\"verify\"] = True\n",
    "argdict[\"mountpoints\"] = None\n",
    "argdict[\"autoc_command\"] = None\n",
    "argdict[\"enable_archive\"] = False\n",
    "argdict[\"disable_further_info\"]= True\n",
    "argdict[\"fullmap\"] = [\"{dsid}.map\" for dsid in out_dict]"
   ]
  },
  {
   "cell_type": "markdown",
   "id": "e5b7dcbb-8c10-46cc-8f4f-374cf9aa81a6",
   "metadata": {},
   "source": [
    "### 3.) Create a publisher and run the workflow"
   ]
  },
  {
   "cell_type": "code",
   "execution_count": null,
   "id": "28ccb04a-0b91-43b3-abf0-f7f59376e9a8",
   "metadata": {
    "tags": []
   },
   "outputs": [],
   "source": [
    "publisher = input4mips(argdict)\n",
    "\n",
    "publisher.workflow()"
   ]
  },
  {
   "cell_type": "code",
   "execution_count": null,
   "id": "373e0de4-d2af-418b-96c5-4af80fb36442",
   "metadata": {},
   "outputs": [],
   "source": [
    "from esgcet.pub_client import publisherClient"
   ]
  },
  {
   "cell_type": "code",
   "execution_count": null,
   "id": "dd8f29b3-bcf8-4503-bbbe-64951e8b0839",
   "metadata": {},
   "outputs": [],
   "source": [
    "pubCli = publisherClient(\"\", \"esgf-node.llnl.gov\", auth=False)\n"
   ]
  },
  {
   "cell_type": "code",
   "execution_count": null,
   "id": "7871faf7-073c-4fcb-93b6-4df5c8d5ca9b",
   "metadata": {},
   "outputs": [],
   "source": [
    "pubCli.retract(\"input4MIPs.CMIP6Plus.CMIP.SOLARIS-HEPPA.SOLARIS-HEPPA-CMIP-4-2.atmos.day.multiple.gn.v20240718|esgf-data2.llnl.gov\")\n",
    "pubCli.retract(\"input4MIPs.CMIP6Plus.CMIP.SOLARIS-HEPPA.SOLARIS-HEPPA-CMIP-4-2.atmos.fx.multiple.gn.v20240718|esgf-data2.llnl.gov\")\n",
    "pubCli.retract(\"input4MIPs.CMIP6Plus.CMIP.SOLARIS-HEPPA.SOLARIS-HEPPA-CMIP-4-2.atmos.mon.multiple.gn.v20240718|esgf-data2.llnl.gov\")"
   ]
  },
  {
   "cell_type": "code",
   "execution_count": 12,
   "id": "2c7e214e-64d8-4462-9773-c0543cd1a9fa",
   "metadata": {},
   "outputs": [],
   "source": [
    "res=requests.get(\"https://esgf-node.llnl.gov/esg-search/search/?format=application%2fsolr%2bjson&project=DRCDP&limit=400&fields=instance_id\")"
   ]
  },
  {
   "cell_type": "code",
   "execution_count": 13,
   "id": "7b39c3b2-bdcb-4bda-924f-688d5ce42dc7",
   "metadata": {},
   "outputs": [],
   "source": [
    "jobj=res.json()"
   ]
  },
  {
   "cell_type": "code",
   "execution_count": 14,
   "id": "cd5a0db6-7eb4-4d0a-a798-a592c8ae6d73",
   "metadata": {},
   "outputs": [
    {
     "data": {
      "text/plain": [
       "{'instance_id': 'DRCDP.CMIP6.NAM.TTU.STAR-ESDM-V1.ACCESS-CM2.CMIP.historical.r1i1p1f1.day.pr.v20241130',\n",
       " 'score': 1.0}"
      ]
     },
     "execution_count": 14,
     "metadata": {},
     "output_type": "execute_result"
    }
   ],
   "source": [
    "jobj[\"response\"][\"docs\"][0]"
   ]
  },
  {
   "cell_type": "code",
   "execution_count": 15,
   "id": "f91fe609-3891-44d5-aac3-85b13c42d66d",
   "metadata": {},
   "outputs": [],
   "source": [
    "with open(\"maplst.txt\", \"w\") as f:\n",
    "    for it in jobj[\"response\"][\"docs\"]:\n",
    "        print(f'{it[\"instance_id\"]}.map', file=f)"
   ]
  },
  {
   "cell_type": "code",
   "execution_count": null,
   "id": "c8a27325-ab01-44b1-96a8-2fbe8757b39a",
   "metadata": {},
   "outputs": [],
   "source": []
  }
 ],
 "metadata": {
  "kernelspec": {
   "display_name": "xrtest",
   "language": "python",
   "name": "xrtest"
  },
  "language_info": {
   "codemirror_mode": {
    "name": "ipython",
    "version": 3
   },
   "file_extension": ".py",
   "mimetype": "text/x-python",
   "name": "python",
   "nbconvert_exporter": "python",
   "pygments_lexer": "ipython3",
   "version": "3.12.4"
  }
 },
 "nbformat": 4,
 "nbformat_minor": 5
}
