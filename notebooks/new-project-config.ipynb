{
 "cells": [
  {
   "cell_type": "markdown",
   "id": "6ea61d16-ddf8-4834-aa73-cba6b599878f",
   "metadata": {},
   "source": [
    "# Sample new project definition\n",
    "\n",
    "Please note that the first two steps can be completed in any order but must proceed 4.  Data node configuration must be complete prior to\n",
    "\n",
    "## 1. Define directory structure,\n",
    "\n",
    "In this example we define a project called sampleSEC. Single Ensemble for CMIP.   In contrast to real CMIP projects, this one has only 5 project-specific facets (all datasets have a version directory)\n",
    "\n",
    "```\n",
    "cd /path/to/staging/for/publishing\n",
    "mkdir -p sampleSEC/NorESM/esm-ssp534-over/monthly/sivoln/v20230616\n",
    "cp /path/to/source/for/test-data-file.nc sampleSEC/NorESM/esm-ssp534-over/monthly/sivoln/v20230616\n",
    "```"
   ]
  },
  {
   "cell_type": "markdown",
   "id": "9819380f-e8cc-4bcd-9e97-60b961d05d69",
   "metadata": {},
   "source": [
    "## 2. Configure the publisher for the project\n",
    "Paste the `.yaml` data into your `esg.yaml` file.   Project sections should be lowercase but the project name for search and identification purposes on the ESGF index can be mixed-case, as shown in the example:"
   ]
  },
  {
   "cell_type": "code",
   "execution_count": null,
   "id": "1603cd6e-ef2c-4841-a990-2d904f99e8e5",
   "metadata": {},
   "outputs": [],
   "source": [
    "#  SAMPLE YAML DATA - DO NOT RUN\n",
    "data_roots:\n",
    "  /path/to/staging/for/publishing:  test_data\n",
    "user_project_config:\n",
    "  cmip6plus:\n",
    "    CONST_ATTR:\n",
    "      project: CMIP6Plus\n",
    "    pid_prefix: '21.14100'\n",
    "  samplesec:\n",
    "    CONST_ATTR:\n",
    "      project: sampleSEC\n",
    "    DRS:\n",
    "      - project\n",
    "      - source_id\n",
    "      - experiment_id\n",
    "      - frequency\n",
    "      - variable_id"
   ]
  },
  {
   "cell_type": "markdown",
   "id": "247bb942-e7bc-4d36-bb6f-7a8feac850ea",
   "metadata": {},
   "source": [
    "## 3. Data Node configuration\n",
    "\n",
    "Ensure that the following `  /path/to/staging/for/publishing:  test_data` is also reflected in your data node config done for the `esgf-docker` Ansible playbooks or Helm Charts.\n",
    "\n",
    "## 4. Publishing\n",
    "Ensure you specify your project by name (all lowercase_ \n",
    "```\n",
    "esgpublish --project samplesec --map your-mapfile.map --conifg your-esg.yaml --no-auth\n",
    "```\n",
    "\n",
    "## 5. Metagrid project view\n",
    "To facilitate search in metagrid, add an entry to `initial_projects_data.py`\n"
   ]
  },
  {
   "cell_type": "code",
   "execution_count": null,
   "id": "09e61532-34fc-47ed-b2ec-a7039aa4a008",
   "metadata": {},
   "outputs": [],
   "source": []
  }
 ],
 "metadata": {
  "kernelspec": {
   "display_name": "Python 3 (ipykernel)",
   "language": "python",
   "name": "python3"
  },
  "language_info": {
   "codemirror_mode": {
    "name": "ipython",
    "version": 3
   },
   "file_extension": ".py",
   "mimetype": "text/x-python",
   "name": "python",
   "nbconvert_exporter": "python",
   "pygments_lexer": "ipython3",
   "version": "3.10.10"
  }
 },
 "nbformat": 4,
 "nbformat_minor": 5
}
