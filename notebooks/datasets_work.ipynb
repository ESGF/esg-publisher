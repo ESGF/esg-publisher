{
 "cells": [
  {
   "cell_type": "code",
   "execution_count": 1,
   "id": "9cc2fee9-aaeb-4757-853a-7cabbccd53df",
   "metadata": {},
   "outputs": [],
   "source": [
    "import json, requests, random, os"
   ]
  },
  {
   "cell_type": "code",
   "execution_count": null,
   "id": "7fa9e2d5-080f-4f60-bb42-664aa16dec58",
   "metadata": {},
   "outputs": [],
   "source": [
    "! wget -O res.json 'https://esgf-node.llnl.gov/esg-search/search?type=Dataset&limit=1000&from=NOW-3YEAR&format=application%2fsolr%2bjson&replica=true&data_node=esgf-data1.llnl.gov&retracted=false&latest=false&fields=master_id'"
   ]
  },
  {
   "cell_type": "code",
   "execution_count": 2,
   "id": "9e3380d1-54c5-4bac-9e9e-60f30e070b6a",
   "metadata": {},
   "outputs": [],
   "source": [
    "obj = json.load(open('res.json'))"
   ]
  },
  {
   "cell_type": "code",
   "execution_count": 3,
   "id": "29c940dc-9ed8-4888-9239-64d7de04de40",
   "metadata": {},
   "outputs": [
    {
     "name": "stdout",
     "output_type": "stream",
     "text": [
      "/p/css03/esgf_publish/CMIP6/ScenarioMIP/EC-Earth-Consortium/EC-Earth3-Veg/ssp245/r5i1p1f1/Emon/fNup/gr\n"
     ]
    }
   ],
   "source": [
    "lst = list(range(1000))\n",
    "random.shuffle(lst)\n",
    "master_id = obj[\"response\"][\"docs\"][lst[0]][\"master_id\"]\n",
    "relpath = master_id.replace('.','/')\n",
    "abspath = f\"/p/css03/esgf_publish/{relpath}\"\n",
    "print(abspath)"
   ]
  },
  {
   "cell_type": "code",
   "execution_count": 4,
   "id": "327e1b01-c786-4d47-b011-da81a8f5132b",
   "metadata": {},
   "outputs": [
    {
     "name": "stdout",
     "output_type": "stream",
     "text": [
      "CMIP6.ScenarioMIP.EC-Earth-Consortium.EC-Earth3-Veg.ssp245.r5i1p1f1.Emon.fNup.gr.v20200312.txt   /p/css03/esgf_publish/CMIP6/ScenarioMIP/EC-Earth-Consortium/EC-Earth3-Veg/ssp245/r5i1p1f1/Emon/fNup/gr/v20200312\n",
      "CMIP6.ScenarioMIP.EC-Earth-Consortium.EC-Earth3-Veg.ssp245.r5i1p1f1.Emon.fNup.gr.v20210616.txt   /p/css03/esgf_publish/CMIP6/ScenarioMIP/EC-Earth-Consortium/EC-Earth3-Veg/ssp245/r5i1p1f1/Emon/fNup/gr/v20210616\n"
     ]
    }
   ],
   "source": [
    "dirlst = list(os.listdir(abspath))\n",
    "dirlst.sort()\n",
    "for dn in dirlst:    \n",
    "    print(f\"{master_id}.{dn}.txt   {abspath}/{dn}\")\n"
   ]
  },
  {
   "cell_type": "code",
   "execution_count": 5,
   "id": "d5fa4680-3fab-4359-a161-9c643b11b68a",
   "metadata": {},
   "outputs": [],
   "source": [
    "METAFILE=\"CMIP6.ScenarioMIP.EC-Earth-Consortium.EC-Earth3-Veg.ssp245.r5i1p1f1.Emon.fNup.gr.v20200312.txt\""
   ]
  },
  {
   "cell_type": "code",
   "execution_count": 6,
   "id": "11958038-306d-4ed2-8b45-caac69f39e2b",
   "metadata": {},
   "outputs": [],
   "source": [
    "%%sh \n",
    "\n",
    "outfile=\"CMIP6.ScenarioMIP.EC-Earth-Consortium.EC-Earth3-Veg.ssp245.r5i1p1f1.Emon.fNup.gr.v20200312.txt\"\n",
    "#wget https://raw.githubusercontent.com/sashakames/aims-pub-util/master/get_meta.sh\n",
    "dn=\"/p/css03/esgf_publish/CMIP6/ScenarioMIP/EC-Earth-Consortium/EC-Earth3-Veg/ssp245/r5i1p1f1/Emon/fNup/gr/v20200312\"  # project should match identifier above \n",
    "for fn in `find $dn -name \"*.nc\"` ; do \n",
    "  bash ../aims-pub-util/get_meta.sh $fn ; done > $outfile  #  file name should match const above\n"
   ]
  },
  {
   "cell_type": "code",
   "execution_count": 7,
   "id": "0dff94a0-3d24-40c0-9cb7-7f2e7926594c",
   "metadata": {},
   "outputs": [],
   "source": [
    "arr = []\n",
    "with open(METAFILE) as f:\n",
    "    for line in f:\n",
    "        arr.append(line.rstrip())"
   ]
  },
  {
   "cell_type": "code",
   "execution_count": 8,
   "id": "340c06ed-52aa-419f-a9e6-174db4ddc739",
   "metadata": {},
   "outputs": [
    {
     "name": "stdout",
     "output_type": "stream",
     "text": [
      "Writing CMIP6.ScenarioMIP.EC-Earth-Consortium.EC-Earth3-Veg.ssp245.r5i1p1f1.Emon.fNup.gr.v20200312.map\n"
     ]
    }
   ],
   "source": [
    "FIRST_ID=\"CMIP6\"\n",
    "out_dict = {}\n",
    "\n",
    "for line in arr:\n",
    "\n",
    "    parts = line.split()\n",
    "    path = parts[1]\n",
    "\n",
    "    checksum = parts[0]\n",
    "\n",
    "    ts = parts[2]  # timestamp\n",
    "\n",
    "    sz = parts[3].strip()  # size\n",
    "\n",
    "    pp2 = path.split('/')\n",
    "    idx = pp2.index(FIRST_ID)\n",
    "    last = len(pp2) - 2\n",
    "    dset_id = \".\".join(pp2[idx  :last]) + \"#\" + pp2[last][1:]\n",
    "\n",
    "    out_arr = []\n",
    "    out_arr.append(dset_id)\n",
    "    out_arr.append(path)\n",
    "    out_arr.append(sz)\n",
    "    out_arr.append(\"mod_time=\" + ts)\n",
    "    out_arr.append(\"checksum=\" + checksum)\n",
    "    out_arr.append(\"checksum_type=SHA256\")\n",
    "    out_line = ' | '.join(out_arr) + \"\\n\"\n",
    "    \n",
    "    if not dset_id in out_dict:\n",
    "        out_dict[dset_id] = [out_line]\n",
    "    else:\n",
    "        out_dict[dset_id].append(out_line)\n",
    "\n",
    "for dset_id in out_dict:\n",
    "    outfilename = dset_id.replace(\"#\",\".v\") + \".map\"\n",
    "    print(\"Writing \" + outfilename)\n",
    "    with open(outfilename , \"w\") as f:\n",
    "        for line in out_dict[dset_id]:\n",
    "            f.write(line)"
   ]
  },
  {
   "cell_type": "code",
   "execution_count": null,
   "id": "7b927f2f-221f-4dba-ac8c-5fb19e0adf48",
   "metadata": {},
   "outputs": [],
   "source": []
  },
  {
   "cell_type": "code",
   "execution_count": null,
   "id": "dc187eb6-364e-4725-a886-c77417b7d475",
   "metadata": {},
   "outputs": [],
   "source": []
  },
  {
   "cell_type": "code",
   "execution_count": null,
   "id": "09b0281c-f294-41c2-a028-791682f8df14",
   "metadata": {},
   "outputs": [],
   "source": []
  }
 ],
 "metadata": {
  "kernelspec": {
   "display_name": "esgf-pub520",
   "language": "python",
   "name": "esgf-pub520"
  },
  "language_info": {
   "codemirror_mode": {
    "name": "ipython",
    "version": 3
   },
   "file_extension": ".py",
   "mimetype": "text/x-python",
   "name": "python",
   "nbconvert_exporter": "python",
   "pygments_lexer": "ipython3",
   "version": "3.11.5"
  }
 },
 "nbformat": 4,
 "nbformat_minor": 5
}
