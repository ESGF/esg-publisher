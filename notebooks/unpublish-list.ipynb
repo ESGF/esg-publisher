{
 "cells": [
  {
   "cell_type": "markdown",
   "id": "63af012f-79d8-41ed-b4ad-d656208c3541",
   "metadata": {},
   "source": [
    "# Generate a list and unpublish\n",
    "\n",
    "This example deletes datasets from an index.  \n",
    "Note: Some publication projects require PID unpublishing via RabbitMQ in addition.  For those, please use the esgunpublish CLI rather than this example\n",
    "\n",
    "## imports"
   ]
  },
  {
   "cell_type": "code",
   "execution_count": 2,
   "id": "108cfd5a-3c5e-4e92-a2dc-6f0243e653f2",
   "metadata": {
    "tags": []
   },
   "outputs": [],
   "source": [
    "from esgcet.pub_client import publisherClient\n",
    "import requests"
   ]
  },
  {
   "cell_type": "markdown",
   "id": "be049c33-ab60-4ce9-8168-07424d69341d",
   "metadata": {},
   "source": [
    "### define constants"
   ]
  },
  {
   "cell_type": "code",
   "execution_count": 3,
   "id": "e80566e0-2056-45da-9b6a-ae073fd37885",
   "metadata": {
    "tags": []
   },
   "outputs": [],
   "source": [
    "DATA_NODE = \"acdisc.gesdisc.eosdis.nasa.gov\"\n",
    "INDEX_NODE = \"esgf-node.llnl.gov\"\n",
    "CERT_FN = \"/p/user_pub/publish-queue/certs/certificate-file\"\n",
    "pubCli = publisherClient(CERT_FN, INDEX_NODE )"
   ]
  },
  {
   "cell_type": "markdown",
   "id": "418a66b2-0d35-451a-a200-a544845b811a",
   "metadata": {},
   "source": [
    "### Request a list of datasets that match\n",
    "In our example we are looking everything from a particular Data Node, but some other property or criteria could be used as well"
   ]
  },
  {
   "cell_type": "code",
   "execution_count": 5,
   "id": "b5e8fda7-4faa-412c-920f-b693a1694d25",
   "metadata": {
    "tags": []
   },
   "outputs": [],
   "source": [
    "lst = []\n",
    "res = requests.get(f\"https://{INDEX_NODE}/esg-search/search?limit=100&format=application%2fsolr%2bjson&project=obs4MIPs&data_node={DATA_NODE}&fields=id\")\n",
    "\n",
    "lst = res.json()[\"response\"][\"docs\"]"
   ]
  },
  {
   "cell_type": "markdown",
   "id": "50eecfe8-c004-43d7-b597-6b1da7d8b600",
   "metadata": {},
   "source": [
    "### Iterate through the list and delete all datasets"
   ]
  },
  {
   "cell_type": "code",
   "execution_count": null,
   "id": "4eedf08d-0e00-48e0-953b-6ed57c869c05",
   "metadata": {},
   "outputs": [],
   "source": [
    "for x in lst:\n",
    "    ds = x[\"id\"]\n",
    "        pubCli.delete(dset_id)\n",
    "    "
   ]
  },
  {
   "cell_type": "code",
   "execution_count": 6,
   "id": "797072f2-e04b-4107-9d93-1bfc1f571acd",
   "metadata": {
    "tags": []
   },
   "outputs": [
    {
     "data": {
      "text/plain": [
       "[{'id': 'obs4MIPs.NASA-GSFC.AIRX3STM-006.atmos.mon.cl.2002.v20200609|esgf-node.llnl.gov',\n",
       "  'score': 1.0},\n",
       " {'id': 'obs4MIPs.NASA-GSFC.AIRX3STM-006.atmos.mon.cl.2003.v20200609|esgf-node.llnl.gov',\n",
       "  'score': 1.0},\n",
       " {'id': 'obs4MIPs.NASA-GSFC.AIRX3STM-006.atmos.mon.cl.2004.v20200609|esgf-node.llnl.gov',\n",
       "  'score': 1.0},\n",
       " {'id': 'obs4MIPs.NASA-GSFC.AIRX3STM-006.atmos.mon.cl.2005.v20200609|esgf-node.llnl.gov',\n",
       "  'score': 1.0},\n",
       " {'id': 'obs4MIPs.NASA-GSFC.AIRX3STM-006.atmos.mon.cl.2006.v20200609|esgf-node.llnl.gov',\n",
       "  'score': 1.0},\n",
       " {'id': 'obs4MIPs.NASA-GSFC.AIRX3STM-006.atmos.mon.cl.2007.v20200609|esgf-node.llnl.gov',\n",
       "  'score': 1.0},\n",
       " {'id': 'obs4MIPs.NASA-GSFC.AIRX3STM-006.atmos.mon.cl.2008.v20200609|esgf-node.llnl.gov',\n",
       "  'score': 1.0},\n",
       " {'id': 'obs4MIPs.NASA-GSFC.AIRX3STM-006.atmos.mon.cl.2009.v20200609|esgf-node.llnl.gov',\n",
       "  'score': 1.0},\n",
       " {'id': 'obs4MIPs.NASA-GSFC.AIRX3STM-006.atmos.mon.cl.2010.v20200609|esgf-node.llnl.gov',\n",
       "  'score': 1.0},\n",
       " {'id': 'obs4MIPs.NASA-GSFC.AIRX3STM-006.atmos.mon.cl.2011.v20200609|esgf-node.llnl.gov',\n",
       "  'score': 1.0},\n",
       " {'id': 'obs4MIPs.NASA-GSFC.AIRX3STM-006.atmos.mon.cl.2012.v20200609|esgf-node.llnl.gov',\n",
       "  'score': 1.0},\n",
       " {'id': 'obs4MIPs.NASA-GSFC.AIRX3STM-006.atmos.mon.cl.2013.v20200609|esgf-node.llnl.gov',\n",
       "  'score': 1.0},\n",
       " {'id': 'obs4MIPs.NASA-GSFC.AIRX3STM-006.atmos.mon.cl.2014.v20200609|esgf-node.llnl.gov',\n",
       "  'score': 1.0},\n",
       " {'id': 'obs4MIPs.NASA-GSFC.AIRX3STM-006.atmos.mon.cl.2015.v20200609|esgf-node.llnl.gov',\n",
       "  'score': 1.0},\n",
       " {'id': 'obs4MIPs.NASA-GSFC.AIRX3STM-006.atmos.mon.cl.2016.v20200609|esgf-node.llnl.gov',\n",
       "  'score': 1.0},\n",
       " {'id': 'obs4MIPs.NASA-GSFC.AIRX3STM-006.atmos.mon.clt.v20200609|esgf-node.llnl.gov',\n",
       "  'score': 1.0},\n",
       " {'id': 'obs4MIPs.NASA-GSFC.AIRX3STM-006.atmos.mon.hus.2002.v20200609|esgf-node.llnl.gov',\n",
       "  'score': 1.0},\n",
       " {'id': 'obs4MIPs.NASA-GSFC.AIRX3STM-006.atmos.mon.hus.2003.v20200609|esgf-node.llnl.gov',\n",
       "  'score': 1.0},\n",
       " {'id': 'obs4MIPs.NASA-GSFC.AIRX3STM-006.atmos.mon.hus.2004.v20200609|esgf-node.llnl.gov',\n",
       "  'score': 1.0},\n",
       " {'id': 'obs4MIPs.NASA-GSFC.AIRX3STM-006.atmos.mon.hus.2005.v20200609|esgf-node.llnl.gov',\n",
       "  'score': 1.0},\n",
       " {'id': 'obs4MIPs.NASA-GSFC.AIRX3STM-006.atmos.mon.hus.2006.v20200609|esgf-node.llnl.gov',\n",
       "  'score': 1.0},\n",
       " {'id': 'obs4MIPs.NASA-GSFC.AIRX3STM-006.atmos.mon.hus.2007.v20200609|esgf-node.llnl.gov',\n",
       "  'score': 1.0},\n",
       " {'id': 'obs4MIPs.NASA-GSFC.AIRX3STM-006.atmos.mon.hus.2008.v20200609|esgf-node.llnl.gov',\n",
       "  'score': 1.0},\n",
       " {'id': 'obs4MIPs.NASA-GSFC.AIRX3STM-006.atmos.mon.hus.2009.v20200609|esgf-node.llnl.gov',\n",
       "  'score': 1.0},\n",
       " {'id': 'obs4MIPs.NASA-GSFC.AIRX3STM-006.atmos.mon.hus.2010.v20200609|esgf-node.llnl.gov',\n",
       "  'score': 1.0},\n",
       " {'id': 'obs4MIPs.NASA-GSFC.AIRX3STM-006.atmos.mon.hus.2011.v20200609|esgf-node.llnl.gov',\n",
       "  'score': 1.0},\n",
       " {'id': 'obs4MIPs.NASA-GSFC.AIRX3STM-006.atmos.mon.hus.2012.v20200609|esgf-node.llnl.gov',\n",
       "  'score': 1.0},\n",
       " {'id': 'obs4MIPs.NASA-GSFC.AIRX3STM-006.atmos.mon.hus.2013.v20200609|esgf-node.llnl.gov',\n",
       "  'score': 1.0},\n",
       " {'id': 'obs4MIPs.NASA-GSFC.AIRX3STM-006.atmos.mon.hus.2014.v20200609|esgf-node.llnl.gov',\n",
       "  'score': 1.0},\n",
       " {'id': 'obs4MIPs.NASA-GSFC.AIRX3STM-006.atmos.mon.hus.2015.v20200609|esgf-node.llnl.gov',\n",
       "  'score': 1.0},\n",
       " {'id': 'obs4MIPs.NASA-GSFC.AIRX3STM-006.atmos.mon.hus.2016.v20200609|esgf-node.llnl.gov',\n",
       "  'score': 1.0},\n",
       " {'id': 'obs4MIPs.NASA-GSFC.AIRX3STM-006.atmos.mon.ta.2002.v20200609|esgf-node.llnl.gov',\n",
       "  'score': 1.0},\n",
       " {'id': 'obs4MIPs.NASA-GSFC.AIRX3STM-006.atmos.mon.ta.2003.v20200609|esgf-node.llnl.gov',\n",
       "  'score': 1.0},\n",
       " {'id': 'obs4MIPs.NASA-GSFC.AIRX3STM-006.atmos.mon.ta.2004.v20200609|esgf-node.llnl.gov',\n",
       "  'score': 1.0},\n",
       " {'id': 'obs4MIPs.NASA-GSFC.AIRX3STM-006.atmos.mon.ta.2005.v20200609|esgf-node.llnl.gov',\n",
       "  'score': 1.0},\n",
       " {'id': 'obs4MIPs.NASA-GSFC.AIRX3STM-006.atmos.mon.ta.2006.v20200609|esgf-node.llnl.gov',\n",
       "  'score': 1.0},\n",
       " {'id': 'obs4MIPs.NASA-GSFC.AIRX3STM-006.atmos.mon.ta.2007.v20200609|esgf-node.llnl.gov',\n",
       "  'score': 1.0},\n",
       " {'id': 'obs4MIPs.NASA-GSFC.AIRX3STM-006.atmos.mon.ta.2008.v20200609|esgf-node.llnl.gov',\n",
       "  'score': 1.0},\n",
       " {'id': 'obs4MIPs.NASA-GSFC.AIRX3STM-006.atmos.mon.ta.2009.v20200609|esgf-node.llnl.gov',\n",
       "  'score': 1.0},\n",
       " {'id': 'obs4MIPs.NASA-GSFC.AIRX3STM-006.atmos.mon.ta.2010.v20200609|esgf-node.llnl.gov',\n",
       "  'score': 1.0},\n",
       " {'id': 'obs4MIPs.NASA-GSFC.AIRX3STM-006.atmos.mon.ta.2011.v20200609|esgf-node.llnl.gov',\n",
       "  'score': 1.0},\n",
       " {'id': 'obs4MIPs.NASA-GSFC.AIRX3STM-006.atmos.mon.ta.2012.v20200609|esgf-node.llnl.gov',\n",
       "  'score': 1.0},\n",
       " {'id': 'obs4MIPs.NASA-GSFC.AIRX3STM-006.atmos.mon.ta.2013.v20200609|esgf-node.llnl.gov',\n",
       "  'score': 1.0},\n",
       " {'id': 'obs4MIPs.NASA-GSFC.AIRX3STM-006.atmos.mon.ta.2014.v20200609|esgf-node.llnl.gov',\n",
       "  'score': 1.0},\n",
       " {'id': 'obs4MIPs.NASA-GSFC.AIRX3STM-006.atmos.mon.ta.2015.v20200609|esgf-node.llnl.gov',\n",
       "  'score': 1.0},\n",
       " {'id': 'obs4MIPs.NASA-GSFC.AIRX3STM-006.atmos.mon.ta.2016.v20200609|esgf-node.llnl.gov',\n",
       "  'score': 1.0},\n",
       " {'id': 'obs4MIPs.NASA-GSFC.AIRX3STM-006.atmos.mon.hur.2002.v20200609|esgf-node.llnl.gov',\n",
       "  'score': 1.0},\n",
       " {'id': 'obs4MIPs.NASA-GSFC.AIRX3STM-006.atmos.mon.hur.2003.v20200609|esgf-node.llnl.gov',\n",
       "  'score': 1.0},\n",
       " {'id': 'obs4MIPs.NASA-GSFC.AIRX3STM-006.atmos.mon.hur.2004.v20200609|esgf-node.llnl.gov',\n",
       "  'score': 1.0},\n",
       " {'id': 'obs4MIPs.NASA-GSFC.AIRX3STM-006.atmos.mon.hur.2005.v20200609|esgf-node.llnl.gov',\n",
       "  'score': 1.0},\n",
       " {'id': 'obs4MIPs.NASA-GSFC.AIRX3STM-006.atmos.mon.hur.2006.v20200609|esgf-node.llnl.gov',\n",
       "  'score': 1.0},\n",
       " {'id': 'obs4MIPs.NASA-GSFC.AIRX3STM-006.atmos.mon.hur.2007.v20200609|esgf-node.llnl.gov',\n",
       "  'score': 1.0},\n",
       " {'id': 'obs4MIPs.NASA-GSFC.AIRX3STM-006.atmos.mon.hur.2008.v20200609|esgf-node.llnl.gov',\n",
       "  'score': 1.0},\n",
       " {'id': 'obs4MIPs.NASA-GSFC.AIRX3STM-006.atmos.mon.hur.2009.v20200609|esgf-node.llnl.gov',\n",
       "  'score': 1.0},\n",
       " {'id': 'obs4MIPs.NASA-GSFC.AIRX3STM-006.atmos.mon.hur.2010.v20200609|esgf-node.llnl.gov',\n",
       "  'score': 1.0},\n",
       " {'id': 'obs4MIPs.NASA-GSFC.AIRX3STM-006.atmos.mon.hur.2011.v20200609|esgf-node.llnl.gov',\n",
       "  'score': 1.0},\n",
       " {'id': 'obs4MIPs.NASA-GSFC.AIRX3STM-006.atmos.mon.hur.2012.v20200609|esgf-node.llnl.gov',\n",
       "  'score': 1.0},\n",
       " {'id': 'obs4MIPs.NASA-GSFC.AIRX3STM-006.atmos.mon.hur.2013.v20200609|esgf-node.llnl.gov',\n",
       "  'score': 1.0},\n",
       " {'id': 'obs4MIPs.NASA-GSFC.AIRX3STM-006.atmos.mon.hur.2014.v20200609|esgf-node.llnl.gov',\n",
       "  'score': 1.0},\n",
       " {'id': 'obs4MIPs.NASA-GSFC.AIRX3STM-006.atmos.mon.hur.2015.v20200609|esgf-node.llnl.gov',\n",
       "  'score': 1.0},\n",
       " {'id': 'obs4MIPs.NASA-GSFC.AIRX3STM-006.atmos.mon.hur.2016.v20200609|esgf-node.llnl.gov',\n",
       "  'score': 1.0},\n",
       " {'id': 'obs4MIPs.NASA-GSFC.AIRX3STM-006.atmos.mon.zg.2002.v20200609|esgf-node.llnl.gov',\n",
       "  'score': 1.0},\n",
       " {'id': 'obs4MIPs.NASA-GSFC.AIRX3STM-006.atmos.mon.zg.2003.v20200609|esgf-node.llnl.gov',\n",
       "  'score': 1.0},\n",
       " {'id': 'obs4MIPs.NASA-GSFC.AIRX3STM-006.atmos.mon.zg.2004.v20200609|esgf-node.llnl.gov',\n",
       "  'score': 1.0},\n",
       " {'id': 'obs4MIPs.NASA-GSFC.AIRX3STM-006.atmos.mon.zg.2005.v20200609|esgf-node.llnl.gov',\n",
       "  'score': 1.0},\n",
       " {'id': 'obs4MIPs.NASA-GSFC.AIRX3STM-006.atmos.mon.zg.2006.v20200609|esgf-node.llnl.gov',\n",
       "  'score': 1.0},\n",
       " {'id': 'obs4MIPs.NASA-GSFC.AIRX3STM-006.atmos.mon.zg.2007.v20200609|esgf-node.llnl.gov',\n",
       "  'score': 1.0},\n",
       " {'id': 'obs4MIPs.NASA-GSFC.AIRX3STM-006.atmos.mon.zg.2008.v20200609|esgf-node.llnl.gov',\n",
       "  'score': 1.0},\n",
       " {'id': 'obs4MIPs.NASA-GSFC.AIRX3STM-006.atmos.mon.zg.2009.v20200609|esgf-node.llnl.gov',\n",
       "  'score': 1.0},\n",
       " {'id': 'obs4MIPs.NASA-GSFC.AIRX3STM-006.atmos.mon.zg.2010.v20200609|esgf-node.llnl.gov',\n",
       "  'score': 1.0},\n",
       " {'id': 'obs4MIPs.NASA-GSFC.AIRX3STM-006.atmos.mon.zg.2011.v20200609|esgf-node.llnl.gov',\n",
       "  'score': 1.0},\n",
       " {'id': 'obs4MIPs.NASA-GSFC.AIRX3STM-006.atmos.mon.zg.2012.v20200609|esgf-node.llnl.gov',\n",
       "  'score': 1.0},\n",
       " {'id': 'obs4MIPs.NASA-GSFC.AIRX3STM-006.atmos.mon.zg.2013.v20200609|esgf-node.llnl.gov',\n",
       "  'score': 1.0},\n",
       " {'id': 'obs4MIPs.NASA-GSFC.AIRX3STM-006.atmos.mon.zg.2014.v20200609|esgf-node.llnl.gov',\n",
       "  'score': 1.0},\n",
       " {'id': 'obs4MIPs.NASA-GSFC.AIRX3STM-006.atmos.mon.zg.2015.v20200609|esgf-node.llnl.gov',\n",
       "  'score': 1.0},\n",
       " {'id': 'obs4MIPs.NASA-GSFC.AIRX3STM-006.atmos.mon.zg.2016.v20200609|esgf-node.llnl.gov',\n",
       "  'score': 1.0},\n",
       " {'id': 'obs4MIPs.NASA-GSFC.AIRX3STM-006.atmos.mon.rlutcs.v20200609|esgf-node.llnl.gov',\n",
       "  'score': 1.0},\n",
       " {'id': 'obs4MIPs.NASA-GSFC.AIRX3STM-006.atmos.mon.prw.v20200609|esgf-node.llnl.gov',\n",
       "  'score': 1.0},\n",
       " {'id': 'obs4MIPs.NASA-GSFC.AIRX3STM-006.atmos.mon.rlut.v20200609|esgf-node.llnl.gov',\n",
       "  'score': 1.0},\n",
       " {'id': 'obs4MIPs.NASA-GSFC.AIRX3STM-006.atmos.mon.tas.v20200609|esgf-node.llnl.gov',\n",
       "  'score': 1.0}]"
      ]
     },
     "execution_count": 6,
     "metadata": {},
     "output_type": "execute_result"
    }
   ],
   "source": [
    "lst"
   ]
  },
  {
   "cell_type": "code",
   "execution_count": null,
   "id": "27677e33-b58e-4e65-8cae-96e9551128cd",
   "metadata": {},
   "outputs": [],
   "source": []
  }
 ],
 "metadata": {
  "kernelspec": {
   "display_name": "esgf-pub520",
   "language": "python",
   "name": "esgf-pub520"
  },
  "language_info": {
   "codemirror_mode": {
    "name": "ipython",
    "version": 3
   },
   "file_extension": ".py",
   "mimetype": "text/x-python",
   "name": "python",
   "nbconvert_exporter": "python",
   "pygments_lexer": "ipython3",
   "version": "3.11.5"
  }
 },
 "nbformat": 4,
 "nbformat_minor": 5
}
