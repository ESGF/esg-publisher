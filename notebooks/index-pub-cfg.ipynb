{
 "cells": [
  {
   "cell_type": "markdown",
   "metadata": {},
   "source": [
    "# Configure ESGF Index node for CMIP6 publishing\n",
    "\n",
    "### Configure the ESGF Postgres database\n",
    "\n",
    "Ensure that the publishing user has an account on the index node.\n",
    "\n",
    "Log into psql"
   ]
  },
  {
   "cell_type": "code",
   "execution_count": null,
   "metadata": {},
   "outputs": [],
   "source": [
    "$ psql -U dbsuper esgcet\n",
    "# you will be prompted for the postgres super-user password"
   ]
  },
  {
   "cell_type": "markdown",
   "metadata": {},
   "source": [
    "Locate the ESGF user database numerical id field"
   ]
  },
  {
   "cell_type": "code",
   "execution_count": null,
   "metadata": {},
   "outputs": [],
   "source": [
    "esgcet=# select id from esgf_security.user where openid like '%myuserid%';"
   ]
  },
  {
   "cell_type": "markdown",
   "metadata": {},
   "source": [
    "You will need a group to control access to publish.\n",
    "Use a numerical group id not already taken (you will get an error).\n",
    "Select a unique group name for your institution - see https://esgf-node.llnl.gov/ac/list/ for full list"
   ]
  },
  {
   "cell_type": "code",
   "execution_count": null,
   "metadata": {},
   "outputs": [],
   "source": [
    "esgcet=# insert into esgf_security.group (id, name, description, visible, automatic_approval) \n",
    "         values (2, 'CMIP6_PUB_LLNL', 'CMIP6 publishers at LLNL', true, false);"
   ]
  },
  {
   "cell_type": "markdown",
   "metadata": {},
   "source": [
    "Add the access control rule to the permissions table"
   ]
  },
  {
   "cell_type": "code",
   "execution_count": null,
   "metadata": {},
   "outputs": [],
   "source": [
    "esgcet=# insert into esgf_security.permission (user_id, group_id, role_id, approved) \n",
    "         values (1, 2, 4, true);   # 'publisher' role, aka 'write' privileges"
   ]
  },
  {
   "cell_type": "markdown",
   "metadata": {},
   "source": [
    "### Edit the ESGF XML configuration files\n",
    "\n",
    "As root, edit the file /esg/config/esgf_policy_local.xml \n",
    "\n",
    "and add the following XML tag:"
   ]
  },
  {
   "cell_type": "code",
   "execution_count": null,
   "metadata": {},
   "outputs": [],
   "source": [
    "<policy resource=\".*CMIP6.*\" attribute_type=\"CMIP6_PUB_LLNL\" \n",
    "        attribute_value=\"publisher\" action=\"Write\"/>"
   ]
  }
 ],
 "metadata": {
  "kernelspec": {
   "display_name": "Python 2",
   "language": "python",
   "name": "python2"
  },
  "language_info": {
   "codemirror_mode": {
    "name": "ipython",
    "version": 2
   },
   "file_extension": ".py",
   "mimetype": "text/x-python",
   "name": "python",
   "nbconvert_exporter": "python",
   "pygments_lexer": "ipython2",
   "version": "2.7.14"
  }
 },
 "nbformat": 4,
 "nbformat_minor": 2
}
