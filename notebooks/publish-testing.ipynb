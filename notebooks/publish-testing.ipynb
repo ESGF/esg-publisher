{
 "cells": [
  {
   "cell_type": "markdown",
   "id": "b75509e9-5551-479e-8964-bb76cca0f7f5",
   "metadata": {},
   "source": [
    "#  Sample mapfile generation for esgpublish operation\n",
    "\n",
    "## Set constants\n",
    "- Filenames should be full relative paths consistent to this Notebook file"
   ]
  },
  {
   "cell_type": "code",
   "execution_count": null,
   "id": "78a9540a-de34-4df6-9956-4303052b6d87",
   "metadata": {},
   "outputs": [],
   "source": [
    "METAFILE = \"metadata-file.txt\"   #  filename of the metadata\n",
    "FIRST_ID= \"cosmo-rea\"   # Project identifyer\n",
    "import os\n",
    "os.chdir(\"/home/jovyan/mapfiles\")"
   ]
  },
  {
   "cell_type": "markdown",
   "id": "fc8f6dd8-93a8-4073-8005-309f8f3c471a",
   "metadata": {},
   "source": [
    "## Bash code to get filesystem metadata\n",
    "- Runs in same directory as the Notebook\n",
    "- wget is required\n",
    "- scans a directory tree for .nc files\n",
    "- generates the \"metafile\" "
   ]
  },
  {
   "cell_type": "code",
   "execution_count": null,
   "id": "f7f80bd2-2860-4ac9-b9d4-f308744ab67b",
   "metadata": {
    "tags": []
   },
   "outputs": [],
   "source": [
    "%%bash\n",
    "\n",
    "wget https://raw.githubusercontent.com/sashakames/aims-pub-util/master/get_meta.sh\n",
    "dn=\"/path/to/data/project\"  # Provide path to the data you wish to scan.  Note this will checksum all the files in the subtree and can take some time\n",
    "for fn in `find $dn -name \"*.nc\"` ; do \n",
    "  bash get_meta.sh $fn ; done > metadata-file.txt  #  file name should match const above"
   ]
  },
  {
   "cell_type": "markdown",
   "id": "ec5f221a-6736-4cdd-a3d5-c748a90a6962",
   "metadata": {},
   "source": [
    "## Open the input file"
   ]
  },
  {
   "cell_type": "code",
   "execution_count": null,
   "id": "03c97900-eb6d-4d06-b74d-a495298f1830",
   "metadata": {
    "tags": []
   },
   "outputs": [],
   "source": [
    "arr = []\n",
    "with open(METAFILE) as f:\n",
    "    for line in f:\n",
    "        arr.append(line.rstrip())\n"
   ]
  },
  {
   "cell_type": "markdown",
   "id": "e5408b27-631f-40e4-847a-43059029e8ef",
   "metadata": {},
   "source": [
    "## Iterate through input data and write out mapfile"
   ]
  },
  {
   "cell_type": "code",
   "execution_count": null,
   "id": "edb89dc7-c645-45f3-ab3f-18af0413ed3e",
   "metadata": {
    "tags": []
   },
   "outputs": [],
   "source": [
    "out_dict = {}\n",
    "\n",
    "for line in arr:\n",
    "\n",
    "    parts = line.split()\n",
    "    path = parts[1]\n",
    "\n",
    "    checksum = parts[0]\n",
    "\n",
    "    ts = parts[2]  # timestamp\n",
    "\n",
    "    sz = parts[3].strip()  # size\n",
    "\n",
    "    pp2 = path.split('/')\n",
    "    idx = pp2.index(FIRST_ID)\n",
    "    last = len(pp2) - 2\n",
    "    dset_id = \".\".join(pp2[idx  :last]) + \"#\" + pp2[last][1:]\n",
    "\n",
    "    out_arr = []\n",
    "    out_arr.append(dset_id)\n",
    "    out_arr.append(path)\n",
    "    out_arr.append(sz)\n",
    "    out_arr.append(\"mod_time=\" + ts)\n",
    "    out_arr.append(\"checksum=\" + checksum)\n",
    "    out_arr.append(\"checksum_type=SHA256\")\n",
    "    out_line = ' | '.join(out_arr) + \"\\n\"\n",
    "    \n",
    "    if not dset_id in out_dict:\n",
    "        out_dict[dset_id] = [out_line]\n",
    "    else:\n",
    "        out_dict[dset_id].append(out_line)\n",
    "\n",
    "for dset_id in out_dict:\n",
    "    outfilename = dset_id.replace(\"#\",\".v\") + \".map\"\n",
    "    print(\"Writing \" + outfilename)\n",
    "    with open(outfilename , \"w\") as f:\n",
    "        for line in out_dict[dset_id]:\n",
    "            f.write(line)"
   ]
  },
  {
   "cell_type": "markdown",
   "id": "27144d02-a5fb-4551-a699-c2e5d81d6260",
   "metadata": {},
   "source": [
    "## esgpublish operation\n",
    "\n",
    "- See https://esg-publisher.readthedocs.org/\n",
    "- Ensure you have followed steps to install and configure the publisher to create a esg.yaml file\n",
    "- Assuming you have saved your config file to the current directory as esg.yaml and you have the mapfile `test-file.map`, you should run in a terminal:"
   ]
  },
  {
   "cell_type": "markdown",
   "id": "c094f39b-5a18-4cc1-9d2a-12c15e7d66ee",
   "metadata": {},
   "source": [
    "esgpublish --map test-file.map --config esg.yaml --no-auth  # No auth used in esgf-docker index install"
   ]
  },
  {
   "cell_type": "markdown",
   "id": "79ecdfa1-e00f-4b3a-96a3-2b70fd7c3509",
   "metadata": {
    "tags": []
   },
   "source": [
    "## Running test publishing using the esgcet module directly\n",
    "\n",
    "The cells below handle a \"generic\" publishing workflow for testing purposes.  These are not intended for long production publication runs.\n",
    "\n",
    "### 1.)  Import statements"
   ]
  },
  {
   "cell_type": "code",
   "execution_count": null,
   "id": "f3036ee1-2d14-463d-ae92-c23abc01236f",
   "metadata": {
    "tags": []
   },
   "outputs": [],
   "source": [
    "from esgcet.generic_netcdf import GenericPublisher"
   ]
  },
  {
   "cell_type": "markdown",
   "id": "f1b95205-3855-4f95-b139-5f11d0adc47e",
   "metadata": {},
   "source": [
    "### 2.)  Configure the publisher"
   ]
  },
  {
   "cell_type": "code",
   "execution_count": null,
   "id": "125ae591-1c89-47b7-8ae7-a5b417f9a298",
   "metadata": {
    "tags": []
   },
   "outputs": [],
   "source": [
    "argdict = {}\n",
    "argdict[\"silent\"] = False\n",
    "argdict[\"verbose\"] = False\n",
    "argdict[\"cert\"] = \"\"   # must be set for restricted ESGF1 publishing relying on certs\n",
    "argdict[\"index_node\"] = \"esgf-fedtest.llnl.gov\"\n",
    "argdict[\"data_node\"] = \"fake-test-datanode.llnl.gov\"\n",
    "argdict[\"data_roots\"] = { \"/p/user_pub/work\" : \"user_pub_work\" }\n",
    "argdict[\"globus\"] = \"FAKE\"\n",
    "argdict[\"dtn\"] = 'none'\n",
    "argdict[\"replica\"] = False\n",
    "argdict[\"proj\"] = FIRST_ID\n",
    "argdict[\"json_file\"] = None\n",
    "argdict[\"auth\"] = False\n",
    "argdict[\"user_project_config\"] = {}\n",
    "argdict[\"test\"] = True\n",
    "argdict[\"verify\"] = True\n",
    "argdict[\"mountpoints\"] = None\n",
    "argdict[\"autoc_command\"] = None\n",
    "argdict[\"enable_archive\"] = False"
   ]
  },
  {
   "cell_type": "markdown",
   "id": "e5b7dcbb-8c10-46cc-8f4f-374cf9aa81a6",
   "metadata": {},
   "source": [
    "### 3.) Create a publisher and run the workflow"
   ]
  },
  {
   "cell_type": "code",
   "execution_count": null,
   "id": "28ccb04a-0b91-43b3-abf0-f7f59376e9a8",
   "metadata": {
    "tags": []
   },
   "outputs": [],
   "source": [
    "publisher = GenericPublisher(argdict)\n",
    "\n",
    "publisher.workflow()"
   ]
  }
 ],
 "metadata": {
  "kernelspec": {
   "display_name": "esgf-pub520",
   "language": "python",
   "name": "esgf-pub520"
  },
  "language_info": {
   "codemirror_mode": {
    "name": "ipython",
    "version": 3
   },
   "file_extension": ".py",
   "mimetype": "text/x-python",
   "name": "python",
   "nbconvert_exporter": "python",
   "pygments_lexer": "ipython3",
   "version": "3.11.5"
  }
 },
 "nbformat": 4,
 "nbformat_minor": 5
}
