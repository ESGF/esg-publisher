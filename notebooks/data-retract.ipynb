{
 "cells": [
  {
   "cell_type": "markdown",
   "metadata": {},
   "source": [
    "# CMIP6 Dataset retraction\n",
    "\n",
    "If you have the mapfile of the dataset you wish to retract, you may\n",
    "\n",
    "\n",
    "or create a text file and \n",
    "\n",
    "You will want to specify a particular version and use the form (same as first column of mapfiles) \n",
    "\n",
    "`DATASET_ID#VNUM` _note: no 'v' character in the version below unlike use in directory listings._"
   ]
  },
  {
   "cell_type": "code",
   "execution_count": null,
   "metadata": {},
   "outputs": [],
   "source": [
    "CMIP6.CMIP.IPSL.IPSL-CM6A-LR.1pctCO2.r1i1p1f1.Amon.ta.gr#20180727 "
   ]
  },
  {
   "cell_type": "markdown",
   "metadata": {},
   "source": [
    "In most circumstances datasets should be retracted in order that a record is retained on the index node.\n",
    "Moreover, retractions should not delete the dataset fromt "
   ]
  }
 ],
 "metadata": {
  "kernelspec": {
   "display_name": "Python 2",
   "language": "python",
   "name": "python2"
  },
  "language_info": {
   "codemirror_mode": {
    "name": "ipython",
    "version": 2
   },
   "file_extension": ".py",
   "mimetype": "text/x-python",
   "name": "python",
   "nbconvert_exporter": "python",
   "pygments_lexer": "ipython2",
   "version": "2.7.14"
  }
 },
 "nbformat": 4,
 "nbformat_minor": 2
}
