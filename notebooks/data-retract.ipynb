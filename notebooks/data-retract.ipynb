{
 "cells": [
  {
   "cell_type": "markdown",
   "metadata": {},
   "source": [
    "# CMIP6 Dataset retraction\n",
    "\n",
    "If you have the mapfile of the dataset you wish to retract, you may use that file as input,\n",
    "\n",
    "  __-- or --__ create a text file and place the dataset identifiers as shown below with the `--use-list` option (the list just needs to be provided as input, but textfile is likely the most convenient mechanism).\n",
    "\n",
    "You will want to specify a particular version and use the form (same as first column of mapfiles) \n",
    "\n",
    "`DATASET_ID#VNUM` _note: no 'v' character in the version below unlike use in directory listings._"
   ]
  },
  {
   "cell_type": "code",
   "execution_count": null,
   "metadata": {},
   "outputs": [],
   "source": [
    "CMIP6.CMIP.IPSL.IPSL-CM6A-LR.1pctCO2.r1i1p1f1.Amon.ta.gr#20180727 "
   ]
  },
  {
   "cell_type": "markdown",
   "metadata": {},
   "source": [
    "In most circumstances datasets should be retracted in order that a record is retained on the index node.\n",
    "\n",
    "Moreover, retractions should not delete the dataset from the postgresql for versioning.  \n",
    "\n",
    "To retract the dataset, use the esgunpublish command as shown in the two forms below:\n",
    "The `--retract` option is mandatory.  The alternative `--delete` is not recommended for CMIP6."
   ]
  },
  {
   "cell_type": "code",
   "execution_count": null,
   "metadata": {},
   "outputs": [],
   "source": [
    "# Example of retration using mapfile\n",
    "(esgf-pub)$  esgunpublish --project cmip6 --retract --map /path/to/mapfile"
   ]
  },
  {
   "cell_type": "code",
   "execution_count": null,
   "metadata": {},
   "outputs": [],
   "source": [
    "# Example of retraction using use-list\n",
    "(esgf-pub)$  esgunpublish --project cmip6 --retract --use-list /path/to/textfile"
   ]
  }
 ],
 "metadata": {
  "kernelspec": {
   "display_name": "Python 2",
   "language": "python",
   "name": "python2"
  },
  "language_info": {
   "codemirror_mode": {
    "name": "ipython",
    "version": 2
   },
   "file_extension": ".py",
   "mimetype": "text/x-python",
   "name": "python",
   "nbconvert_exporter": "python",
   "pygments_lexer": "ipython2",
   "version": "2.7.14"
  }
 },
 "nbformat": 4,
 "nbformat_minor": 2
}
